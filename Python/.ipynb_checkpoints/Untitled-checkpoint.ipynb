{
 "cells": [
  {
   "cell_type": "markdown",
   "metadata": {},
   "source": [
    "<h1>Mesh Grid N-Body Sim<h1> "
   ]
  },
  {
   "cell_type": "code",
   "execution_count": 44,
   "metadata": {},
   "outputs": [],
   "source": [
    "%matplotlib inline\n",
    "import os\n",
    "import matplotlib.pyplot as plt\n",
    "import numpy as np\n",
    "import imageio\n",
    "np.random.seed(19680801)"
   ]
  },
  {
   "cell_type": "code",
   "execution_count": 45,
   "metadata": {},
   "outputs": [],
   "source": [
    "class particle:\n",
    "    def __init__(self, *args):\n",
    "        if len(args) == 2:\n",
    "            if isinstance(args[0], np.ndarray):\n",
    "                if args[0].shape == (3, 1):\n",
    "                    self.s = args[0];\n",
    "                    self.v = args[1];\n",
    "                else:\n",
    "                    print(\"Particle input matrix must be (3, 1)\")\n",
    "            else:\n",
    "                print(\"Particle Must be Numpy ND array\")\n",
    "        else:\n",
    "            print(\"Particle Argument must have 2 inputs\")\n",
    "        \n",
    "        "
   ]
  },
  {
   "cell_type": "markdown",
   "metadata": {},
   "source": [
    "<h3>Creating All Initial Particles Randomly<h3>"
   ]
  },
  {
   "cell_type": "code",
   "execution_count": 66,
   "metadata": {},
   "outputs": [],
   "source": [
    "particleList = [];\n",
    "n = 100;\n",
    "for i in range(n):\n",
    "    particleList.append(particle(np.random.rand(3, 1), np.random.rand(3,1)))"
   ]
  },
  {
   "cell_type": "markdown",
   "metadata": {},
   "source": [
    "<h3>Plotting the particles to test<h3>"
   ]
  },
  {
   "cell_type": "code",
   "execution_count": 67,
   "metadata": {},
   "outputs": [],
   "source": [
    "\n",
    "filenames = [];\n",
    "Time = 100;\n",
    "for t in range(Time):\n",
    "    x = [];\n",
    "    y = [];\n",
    "    z = [];\n",
    "    fig = plt.figure(figsize = (16, 9))\n",
    "    ax = fig.add_subplot(projection='3d')\n",
    "    for i in range(n):\n",
    "        \n",
    "        x.append(particleList[i].s[0]);\n",
    "        y.append(particleList[i].s[1]);\n",
    "        z.append(particleList[i].s[2]);\n",
    "    ax.scatter(x, y, z, color = \"green\")\n",
    "    ax.set_xlabel('X')\n",
    "    ax.set_xlim3d([0, 1]);\n",
    "    ax.set_ylim3d([0, 1]);\n",
    "    ax.set_zlim3d([0, 1]);\n",
    "    ax.set_ylabel('Y')\n",
    "    ax.set_zlabel('Z')\n",
    "    # create file name and append it to a list\n",
    "    filename = f'{t}.png'\n",
    "    filenames.append(filename)\n",
    "\n",
    "    # save frame\n",
    "    plt.savefig(filename)\n",
    "    plt.close()\n",
    "    \n",
    "    #Update the positions here:\n",
    "    for i in range(n):\n",
    "        particleList[i].s[0] = particleList[i].s[0] +.01*np.random.rand(1,1);\n",
    "        particleList[i].s[1] = particleList[i].s[1] -.01*np.random.rand(1,1);\n",
    "        particleList[i].s[2] = particleList[i].s[2] +.01*np.random.rand(1,1);\n",
    "    \n",
    "# build gif\n",
    "with imageio.get_writer('mygif.gif', mode='I') as writer:\n",
    "    for filename in filenames:\n",
    "        image = imageio.imread(filename)\n",
    "        writer.append_data(image)\n",
    "        \n",
    "#Remove files\n",
    "for filename in set(filenames):\n",
    "    os.remove(filename)\n"
   ]
  },
  {
   "cell_type": "code",
   "execution_count": null,
   "metadata": {},
   "outputs": [],
   "source": []
  }
 ],
 "metadata": {
  "kernelspec": {
   "display_name": "Python 3",
   "language": "python",
   "name": "python3"
  },
  "language_info": {
   "codemirror_mode": {
    "name": "ipython",
    "version": 3
   },
   "file_extension": ".py",
   "mimetype": "text/x-python",
   "name": "python",
   "nbconvert_exporter": "python",
   "pygments_lexer": "ipython3",
   "version": "3.7.4"
  }
 },
 "nbformat": 4,
 "nbformat_minor": 2
}
